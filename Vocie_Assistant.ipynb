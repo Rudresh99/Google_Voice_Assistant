{
  "nbformat": 4,
  "nbformat_minor": 0,
  "metadata": {
    "kernelspec": {
      "display_name": "Python 3",
      "language": "python",
      "name": "python3"
    },
    "language_info": {
      "codemirror_mode": {
        "name": "ipython",
        "version": 3
      },
      "file_extension": ".py",
      "mimetype": "text/x-python",
      "name": "python",
      "nbconvert_exporter": "python",
      "pygments_lexer": "ipython3",
      "version": "3.7.6"
    },
    "colab": {
      "name": "Vocie_Assistant.ipynb",
      "provenance": [],
      "include_colab_link": true
    }
  },
  "cells": [
    {
      "cell_type": "markdown",
      "metadata": {
        "id": "view-in-github",
        "colab_type": "text"
      },
      "source": [
        "<a href=\"https://colab.research.google.com/github/Rudresh99/Google_Voice_Assistant/blob/master/Vocie_Assistant.ipynb\" target=\"_parent\"><img src=\"https://colab.research.google.com/assets/colab-badge.svg\" alt=\"Open In Colab\"/></a>"
      ]
    },
    {
      "cell_type": "markdown",
      "metadata": {
        "id": "WR1izArKGKNe",
        "colab_type": "text"
      },
      "source": [
        "# Google Voice Assistant\n",
        "![](data:image/png;base64,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)\n",
        "\n",
        "## It Recognize voice and convert into text and then search it from Google"
      ]
    },
    {
      "cell_type": "markdown",
      "metadata": {
        "id": "KVXCVxovHKvo",
        "colab_type": "text"
      },
      "source": [
        "# 1. Importing necessary Libraries"
      ]
    },
    {
      "cell_type": "code",
      "metadata": {
        "id": "F09v0lWUGGTZ",
        "colab_type": "code",
        "colab": {}
      },
      "source": [
        "import webbrowser as wb\n",
        "import speech_recognition as sr"
      ],
      "execution_count": null,
      "outputs": []
    },
    {
      "cell_type": "markdown",
      "metadata": {
        "id": "LN6WPEGpHiDP",
        "colab_type": "text"
      },
      "source": [
        "# 2. Creating Microphone Object"
      ]
    },
    {
      "cell_type": "code",
      "metadata": {
        "id": "O8ScHQtXGGTo",
        "colab_type": "code",
        "colab": {}
      },
      "source": [
        "sr.Microphone(device_index = 1)\n",
        "r = sr.Recognizer()"
      ],
      "execution_count": null,
      "outputs": []
    },
    {
      "cell_type": "code",
      "metadata": {
        "id": "7MsqCvWcGGTw",
        "colab_type": "code",
        "colab": {}
      },
      "source": [
        "r.energy_threshold = 5000"
      ],
      "execution_count": null,
      "outputs": []
    },
    {
      "cell_type": "markdown",
      "metadata": {
        "id": "F6nSxd5RHubn",
        "colab_type": "text"
      },
      "source": [
        "# 3. Recognize the Voice and Search it "
      ]
    },
    {
      "cell_type": "code",
      "metadata": {
        "id": "wnrv0_-0GGUA",
        "colab_type": "code",
        "colab": {},
        "outputId": "45c6036a-81b6-47a1-bbef-566633b6907c"
      },
      "source": [
        "with sr.Microphone() as source:\n",
        "    print(\" Speak !! \")\n",
        "    audio = r.listen(source,timeout = 5)\n",
        "    print(\" Command recived \")\n",
        "    \n",
        "try:\n",
        "    text = r.recognize_google(audio)\n",
        "    print(\"u said :\",text)\n",
        "    url = 'https://www.google.com/search?q='\n",
        "    search = url+text\n",
        "    wb.open(search)   \n",
        "except:\n",
        "    print(\"Voice not recognized\")"
      ],
      "execution_count": null,
      "outputs": [
        {
          "output_type": "stream",
          "text": [
            " Speak !! \n",
            " Command recived \n",
            "u said : find me WhatsApp\n"
          ],
          "name": "stdout"
        }
      ]
    },
    {
      "cell_type": "markdown",
      "metadata": {
        "id": "K95_hG7EICDI",
        "colab_type": "text"
      },
      "source": [
        "# 4. Final Output"
      ]
    }
  ]
}